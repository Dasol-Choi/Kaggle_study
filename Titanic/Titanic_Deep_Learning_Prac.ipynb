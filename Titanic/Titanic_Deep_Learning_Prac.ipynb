{
  "nbformat": 4,
  "nbformat_minor": 0,
  "metadata": {
    "colab": {
      "provenance": [],
      "collapsed_sections": []
    },
    "kernelspec": {
      "name": "python3",
      "display_name": "Python 3"
    },
    "language_info": {
      "name": "python"
    }
  },
  "cells": [
    {
      "cell_type": "markdown",
      "source": [
        "# Import"
      ],
      "metadata": {
        "id": "tXtxzvEhkicG"
      }
    },
    {
      "cell_type": "code",
      "execution_count": null,
      "metadata": {
        "id": "ikLHQ9WQeCbX"
      },
      "outputs": [],
      "source": [
        "import numpy as np\n",
        "import pandas as pd\n",
        "import matplotlib.pyplot as plt\n",
        "import seaborn as sns\n",
        "from sklearn.linear_model import LogisticRegression\n",
        "from sklearn.preprocessing import LabelEncoder\n",
        "from sklearn.model_selection import train_test_split, GridSearchCV\n",
        "from sklearn.tree import DecisionTreeClassifier\n",
        "from sklearn.ensemble import RandomForestClassifier\n",
        "from sklearn.ensemble import BaggingClassifier\n",
        "from sklearn.ensemble import VotingClassifier\n",
        "from sklearn.linear_model import LogisticRegression\n",
        "from sklearn.model_selection import GridSearchCV\n",
        "from sklearn.metrics import mean_squared_error\n",
        "from sklearn.tree import plot_tree\n",
        "from sklearn import metrics\n",
        "from sklearn.metrics import accuracy_score\n",
        "from sklearn.preprocessing import Binarizer\n",
        "from tensorflow import keras\n",
        "from tensorflow.keras import models, layers, Sequential, Input\n",
        "from tensorflow.keras.models import Model\n",
        "from tensorflow.keras.layers import Dense, BatchNormalization, Dropout\n",
        "\n",
        "import warnings\n",
        "warnings.filterwarnings('ignore')"
      ]
    },
    {
      "cell_type": "code",
      "source": [
        "# Simple Preprocessing\n",
        "\n",
        "df = pd.read_csv('/content/drive/MyDrive/ Encore Prac/titanic_train.csv')\n",
        "df_test = pd.read_csv('/content/drive/MyDrive/ Encore Prac/titanic_test.csv')\n",
        "df1 = df.copy()\n",
        "df1.set_index('PassengerId', inplace=True)\n",
        "df_test.set_index('PassengerId', inplace=True)\n",
        "df1.drop(['Name'], axis=1, inplace=True)\n",
        "df_test.drop(['Name'], axis=1, inplace=True)\n",
        "\n",
        "df_test.Cabin.astype(str)\n",
        "\n",
        "# 결측치 처리\n",
        "df1.Cabin.fillna('N', inplace=True)\n",
        "df1.Embarked.fillna('S', inplace=True)\n",
        "df1.Age.fillna(df1.Age.median(), inplace=True)\n",
        "df_test.Cabin.fillna('N', inplace=True)\n",
        "df_test.Fare.fillna(df1.Fare.median(), inplace=True)\n",
        "df_test.Age.fillna(df1.Age.median(), inplace=True)\n",
        "\n",
        "df1.Cabin = df1.Cabin.apply(lambda x:x[0])\n",
        "df_test.Cabin = df_test.Cabin.apply(lambda x:x[0])\n",
        "\n",
        "# 인코딩\n",
        "og_columns = df1.columns[(df1.dtypes=='O')|(df1.dtypes=='category')|(df1.dtypes=='bool')]\n",
        "og_columns\n",
        "\n",
        "for i in og_columns:\n",
        "    globals()[f'df1_{i}_encoder'] = LabelEncoder()\n",
        "    globals()[f'df1_{i}_encoder'].fit(df1[i])\n",
        "    globals()[f'df_kg_{i}_encoder'] = LabelEncoder()\n",
        "    globals()[f'df_kg_{i}_encoder'].fit(df_test[i])\n",
        "    df1[i] = globals()[f'df1_{i}_encoder'].transform(df1[i])\n",
        "    df_test[i] = globals()[f'df_kg_{i}_encoder'].transform(df_test[i])\n",
        "\n",
        "# X, y 분리\n",
        "X = df1.drop('Survived', axis=1)\n",
        "y = df1.Survived\n",
        "\n",
        "# train, test 분리\n",
        "X_train, X_test, y_train, y_test = train_test_split(X, y, test_size=0.1, random_state=19)"
      ],
      "metadata": {
        "id": "zM4zLiC0eG63"
      },
      "execution_count": null,
      "outputs": []
    },
    {
      "cell_type": "code",
      "source": [
        "perfect = pd.read_csv(\"/content/drive/MyDrive/titanic_100.csv\")['Survived']"
      ],
      "metadata": {
        "id": "cJK5H2rEgOtz"
      },
      "execution_count": null,
      "outputs": []
    },
    {
      "cell_type": "code",
      "source": [
        "print(X_train.shape)\n",
        "print(X_test.shape)"
      ],
      "metadata": {
        "colab": {
          "base_uri": "https://localhost:8080/"
        },
        "id": "9LtnfqNZeHDG",
        "outputId": "f2a34eb6-1855-495d-b3a9-7371b1b0a84e"
      },
      "execution_count": null,
      "outputs": [
        {
          "output_type": "stream",
          "name": "stdout",
          "text": [
            "(801, 9)\n",
            "(90, 9)\n"
          ]
        }
      ]
    },
    {
      "cell_type": "code",
      "source": [
        "model = Sequential()\n",
        "model.add(Dense(7, input_dim=9, activation='relu'))\n",
        "model.add(Dense(5, input_dim=7, activation='relu'))\n",
        "model.add(Dense(3, input_dim=5, activation='relu'))\n",
        "model.add(Dense(1, input_dim=2, activation='sigmoid'))\n",
        "model.compile(loss='binary_crossentropy', optimizer='adam', metrics=['acc']) \n",
        "model.fit(X, y, epochs=1000,)\n",
        "model.evaluate(df_test, perfect)"
      ],
      "metadata": {
        "id": "z-3EQN8MeHFu"
      },
      "execution_count": null,
      "outputs": []
    },
    {
      "cell_type": "code",
      "source": [
        "initializer1 = keras.initializers.RandomNormal(mean=0, stddev=1.)\n",
        "initializer2 = keras.initializers.RandomUniform(minval=0,maxval=1.)\n",
        "initializer3 = keras.initializers.TruncatedNormal(mean=0, stddev=1.)\n",
        "initializer4 = keras.initializers.GlorotNormal() #Xavier\n",
        "initializer5 = keras.initializers.GlorotUniform() #Xavier\n",
        "initializer6 = keras.initializers.HeNormal() #He\n",
        "initializer7 = keras.initializers.HeUniform() #He\n",
        "\n",
        "def fucn(optimizer, epochs):\n",
        "  activations = ['sigmoid', 'relu', 'tanh', 'elu']\n",
        "  for x in range(4):\n",
        "    activation = activations[x]\n",
        "    globals()[f'scores{x+1}'] = []\n",
        "    globals()[f'weights{x+1}'] = []\n",
        "    temp_score = []\n",
        "    temp_weight = []\n",
        "    for i in range(7):\n",
        "      ip = Input(shape=(9,))\n",
        "      n = BatchNormalization()(ip)\n",
        "      n = Dense(7, activation=activation, kernel_initializer=globals()[f'initializer{i+1}'])(n)\n",
        "      n = BatchNormalization()(n)\n",
        "      n = Dense(5, activation=activation, kernel_initializer=globals()[f'initializer{i+1}'])(n)\n",
        "      n = BatchNormalization()(n)\n",
        "      n = Dense(3, activation=activation, kernel_initializer=globals()[f'initializer{i+1}'])(n)\n",
        "      n = BatchNormalization()(n)\n",
        "      n = Dense(1, activation='sigmoid', kernel_initializer=globals()[f'initializer{i+1}'])(n)\n",
        "      model = Model(inputs=ip, outputs=n)\n",
        "      model.compile(loss='binary_crossentropy', optimizer=optimizer, metrics='accuracy')\n",
        "      model.fit(X, y, epochs=epochs, verbose=0)\n",
        "      score = model.evaluate(df_test, perfect)\n",
        "      temp_score.append(score)\n",
        "      temp_weight.append(model.get_weights())\n",
        "    globals()[f'scores{x+1}'].append(temp_score)\n",
        "    globals()[f'weights{x+1}'].append(temp_weight)"
      ],
      "metadata": {
        "id": "H8EbppgG2nXc"
      },
      "execution_count": null,
      "outputs": []
    },
    {
      "cell_type": "code",
      "source": [
        "fucn('adam', 1000)"
      ],
      "metadata": {
        "colab": {
          "base_uri": "https://localhost:8080/"
        },
        "id": "pKInAA742naN",
        "outputId": "dca6f172-0a3a-413d-88c2-e43508bbb11d"
      },
      "execution_count": null,
      "outputs": [
        {
          "output_type": "stream",
          "name": "stdout",
          "text": [
            "14/14 [==============================] - 0s 2ms/step - loss: 0.5375 - accuracy: 0.7464\n",
            "14/14 [==============================] - 0s 2ms/step - loss: 0.5132 - accuracy: 0.7679\n",
            "14/14 [==============================] - 0s 2ms/step - loss: 0.5168 - accuracy: 0.7679\n",
            "14/14 [==============================] - 0s 5ms/step - loss: 0.4886 - accuracy: 0.7703\n",
            "14/14 [==============================] - 0s 2ms/step - loss: 0.4777 - accuracy: 0.7560\n",
            "14/14 [==============================] - 0s 2ms/step - loss: 0.5076 - accuracy: 0.7679\n",
            "14/14 [==============================] - 0s 2ms/step - loss: 0.5158 - accuracy: 0.7679\n",
            "14/14 [==============================] - 0s 3ms/step - loss: 0.5001 - accuracy: 0.7656\n",
            "14/14 [==============================] - 0s 2ms/step - loss: 0.4714 - accuracy: 0.7775\n",
            "14/14 [==============================] - 0s 2ms/step - loss: 0.5061 - accuracy: 0.7727\n",
            "14/14 [==============================] - 1s 2ms/step - loss: 0.5871 - accuracy: 0.7392\n",
            "14/14 [==============================] - 0s 2ms/step - loss: 0.4944 - accuracy: 0.7632\n",
            "14/14 [==============================] - 0s 6ms/step - loss: 0.4985 - accuracy: 0.7775\n",
            "14/14 [==============================] - 0s 2ms/step - loss: 0.5135 - accuracy: 0.7464\n",
            "14/14 [==============================] - 0s 3ms/step - loss: 0.4916 - accuracy: 0.7919\n",
            "14/14 [==============================] - 0s 2ms/step - loss: 0.5052 - accuracy: 0.7632\n",
            "14/14 [==============================] - 0s 2ms/step - loss: 0.5627 - accuracy: 0.7584\n",
            "14/14 [==============================] - 0s 2ms/step - loss: 0.5342 - accuracy: 0.7536\n",
            "14/14 [==============================] - 0s 2ms/step - loss: 0.5095 - accuracy: 0.7632\n",
            "14/14 [==============================] - 0s 2ms/step - loss: 0.4980 - accuracy: 0.7679\n",
            "14/14 [==============================] - 0s 2ms/step - loss: 0.5216 - accuracy: 0.7512\n",
            "14/14 [==============================] - 0s 3ms/step - loss: 0.5149 - accuracy: 0.7584\n",
            "14/14 [==============================] - 0s 4ms/step - loss: 0.5003 - accuracy: 0.7775\n",
            "14/14 [==============================] - 0s 3ms/step - loss: 0.4764 - accuracy: 0.7895\n",
            "14/14 [==============================] - 0s 3ms/step - loss: 0.5001 - accuracy: 0.7632\n",
            "14/14 [==============================] - 0s 3ms/step - loss: 0.4910 - accuracy: 0.7775\n",
            "14/14 [==============================] - 0s 3ms/step - loss: 0.4843 - accuracy: 0.7799\n",
            "14/14 [==============================] - 0s 3ms/step - loss: 0.5118 - accuracy: 0.7488\n"
          ]
        }
      ]
    },
    {
      "cell_type": "code",
      "source": [
        "pd.DataFrame([[scores1[0][i][1] for i in range(7)], [scores2[0][i][1] for i in range(7)], \n",
        "              [scores3[0][i][1] for i in range(7)], \n",
        "              [scores4[0][i][1] for i in range(7)]], \n",
        "             columns= ['RandomNormal', 'RandomUniform', 'TruncatedNormal', 'GlorotNormal', 'GlorotUniform', 'HeNormal', 'HeUniform'],\n",
        "             index = ['sigmoid', 'relu', 'tanh', 'elu'])"
      ],
      "metadata": {
        "colab": {
          "base_uri": "https://localhost:8080/",
          "height": 175
        },
        "id": "fpaHxD4g2neM",
        "outputId": "cbd9ae31-649a-46d6-c52d-1f96469041d6"
      },
      "execution_count": null,
      "outputs": [
        {
          "output_type": "execute_result",
          "data": {
            "text/plain": [
              "         RandomNormal  RandomUniform  TruncatedNormal  GlorotNormal  \\\n",
              "sigmoid      0.746412       0.767943         0.767943      0.770335   \n",
              "relu         0.765550       0.777512         0.772727      0.739234   \n",
              "tanh         0.791866       0.763158         0.758373      0.753588   \n",
              "elu          0.758373       0.777512         0.789474      0.763158   \n",
              "\n",
              "         GlorotUniform  HeNormal  HeUniform  \n",
              "sigmoid       0.755981  0.767943   0.767943  \n",
              "relu          0.763158  0.777512   0.746412  \n",
              "tanh          0.763158  0.767943   0.751196  \n",
              "elu           0.777512  0.779904   0.748804  "
            ],
            "text/html": [
              "\n",
              "  <div id=\"df-c199b63f-adc1-4f83-9f34-378a89711541\">\n",
              "    <div class=\"colab-df-container\">\n",
              "      <div>\n",
              "<style scoped>\n",
              "    .dataframe tbody tr th:only-of-type {\n",
              "        vertical-align: middle;\n",
              "    }\n",
              "\n",
              "    .dataframe tbody tr th {\n",
              "        vertical-align: top;\n",
              "    }\n",
              "\n",
              "    .dataframe thead th {\n",
              "        text-align: right;\n",
              "    }\n",
              "</style>\n",
              "<table border=\"1\" class=\"dataframe\">\n",
              "  <thead>\n",
              "    <tr style=\"text-align: right;\">\n",
              "      <th></th>\n",
              "      <th>RandomNormal</th>\n",
              "      <th>RandomUniform</th>\n",
              "      <th>TruncatedNormal</th>\n",
              "      <th>GlorotNormal</th>\n",
              "      <th>GlorotUniform</th>\n",
              "      <th>HeNormal</th>\n",
              "      <th>HeUniform</th>\n",
              "    </tr>\n",
              "  </thead>\n",
              "  <tbody>\n",
              "    <tr>\n",
              "      <th>sigmoid</th>\n",
              "      <td>0.746412</td>\n",
              "      <td>0.767943</td>\n",
              "      <td>0.767943</td>\n",
              "      <td>0.770335</td>\n",
              "      <td>0.755981</td>\n",
              "      <td>0.767943</td>\n",
              "      <td>0.767943</td>\n",
              "    </tr>\n",
              "    <tr>\n",
              "      <th>relu</th>\n",
              "      <td>0.765550</td>\n",
              "      <td>0.777512</td>\n",
              "      <td>0.772727</td>\n",
              "      <td>0.739234</td>\n",
              "      <td>0.763158</td>\n",
              "      <td>0.777512</td>\n",
              "      <td>0.746412</td>\n",
              "    </tr>\n",
              "    <tr>\n",
              "      <th>tanh</th>\n",
              "      <td>0.791866</td>\n",
              "      <td>0.763158</td>\n",
              "      <td>0.758373</td>\n",
              "      <td>0.753588</td>\n",
              "      <td>0.763158</td>\n",
              "      <td>0.767943</td>\n",
              "      <td>0.751196</td>\n",
              "    </tr>\n",
              "    <tr>\n",
              "      <th>elu</th>\n",
              "      <td>0.758373</td>\n",
              "      <td>0.777512</td>\n",
              "      <td>0.789474</td>\n",
              "      <td>0.763158</td>\n",
              "      <td>0.777512</td>\n",
              "      <td>0.779904</td>\n",
              "      <td>0.748804</td>\n",
              "    </tr>\n",
              "  </tbody>\n",
              "</table>\n",
              "</div>\n",
              "      <button class=\"colab-df-convert\" onclick=\"convertToInteractive('df-c199b63f-adc1-4f83-9f34-378a89711541')\"\n",
              "              title=\"Convert this dataframe to an interactive table.\"\n",
              "              style=\"display:none;\">\n",
              "        \n",
              "  <svg xmlns=\"http://www.w3.org/2000/svg\" height=\"24px\"viewBox=\"0 0 24 24\"\n",
              "       width=\"24px\">\n",
              "    <path d=\"M0 0h24v24H0V0z\" fill=\"none\"/>\n",
              "    <path d=\"M18.56 5.44l.94 2.06.94-2.06 2.06-.94-2.06-.94-.94-2.06-.94 2.06-2.06.94zm-11 1L8.5 8.5l.94-2.06 2.06-.94-2.06-.94L8.5 2.5l-.94 2.06-2.06.94zm10 10l.94 2.06.94-2.06 2.06-.94-2.06-.94-.94-2.06-.94 2.06-2.06.94z\"/><path d=\"M17.41 7.96l-1.37-1.37c-.4-.4-.92-.59-1.43-.59-.52 0-1.04.2-1.43.59L10.3 9.45l-7.72 7.72c-.78.78-.78 2.05 0 2.83L4 21.41c.39.39.9.59 1.41.59.51 0 1.02-.2 1.41-.59l7.78-7.78 2.81-2.81c.8-.78.8-2.07 0-2.86zM5.41 20L4 18.59l7.72-7.72 1.47 1.35L5.41 20z\"/>\n",
              "  </svg>\n",
              "      </button>\n",
              "      \n",
              "  <style>\n",
              "    .colab-df-container {\n",
              "      display:flex;\n",
              "      flex-wrap:wrap;\n",
              "      gap: 12px;\n",
              "    }\n",
              "\n",
              "    .colab-df-convert {\n",
              "      background-color: #E8F0FE;\n",
              "      border: none;\n",
              "      border-radius: 50%;\n",
              "      cursor: pointer;\n",
              "      display: none;\n",
              "      fill: #1967D2;\n",
              "      height: 32px;\n",
              "      padding: 0 0 0 0;\n",
              "      width: 32px;\n",
              "    }\n",
              "\n",
              "    .colab-df-convert:hover {\n",
              "      background-color: #E2EBFA;\n",
              "      box-shadow: 0px 1px 2px rgba(60, 64, 67, 0.3), 0px 1px 3px 1px rgba(60, 64, 67, 0.15);\n",
              "      fill: #174EA6;\n",
              "    }\n",
              "\n",
              "    [theme=dark] .colab-df-convert {\n",
              "      background-color: #3B4455;\n",
              "      fill: #D2E3FC;\n",
              "    }\n",
              "\n",
              "    [theme=dark] .colab-df-convert:hover {\n",
              "      background-color: #434B5C;\n",
              "      box-shadow: 0px 1px 3px 1px rgba(0, 0, 0, 0.15);\n",
              "      filter: drop-shadow(0px 1px 2px rgba(0, 0, 0, 0.3));\n",
              "      fill: #FFFFFF;\n",
              "    }\n",
              "  </style>\n",
              "\n",
              "      <script>\n",
              "        const buttonEl =\n",
              "          document.querySelector('#df-c199b63f-adc1-4f83-9f34-378a89711541 button.colab-df-convert');\n",
              "        buttonEl.style.display =\n",
              "          google.colab.kernel.accessAllowed ? 'block' : 'none';\n",
              "\n",
              "        async function convertToInteractive(key) {\n",
              "          const element = document.querySelector('#df-c199b63f-adc1-4f83-9f34-378a89711541');\n",
              "          const dataTable =\n",
              "            await google.colab.kernel.invokeFunction('convertToInteractive',\n",
              "                                                     [key], {});\n",
              "          if (!dataTable) return;\n",
              "\n",
              "          const docLinkHtml = 'Like what you see? Visit the ' +\n",
              "            '<a target=\"_blank\" href=https://colab.research.google.com/notebooks/data_table.ipynb>data table notebook</a>'\n",
              "            + ' to learn more about interactive tables.';\n",
              "          element.innerHTML = '';\n",
              "          dataTable['output_type'] = 'display_data';\n",
              "          await google.colab.output.renderOutput(dataTable, element);\n",
              "          const docLink = document.createElement('div');\n",
              "          docLink.innerHTML = docLinkHtml;\n",
              "          element.appendChild(docLink);\n",
              "        }\n",
              "      </script>\n",
              "    </div>\n",
              "  </div>\n",
              "  "
            ]
          },
          "metadata": {},
          "execution_count": 31
        }
      ]
    },
    {
      "cell_type": "code",
      "source": [
        "scores3[0][0][1]"
      ],
      "metadata": {
        "colab": {
          "base_uri": "https://localhost:8080/"
        },
        "id": "YowpX3d8NYa1",
        "outputId": "27f98e00-fa7c-47da-d74e-d370bc6f80dc"
      },
      "execution_count": null,
      "outputs": [
        {
          "output_type": "execute_result",
          "data": {
            "text/plain": [
              "0.7918660044670105"
            ]
          },
          "metadata": {},
          "execution_count": 68
        }
      ]
    },
    {
      "cell_type": "code",
      "source": [
        "weights3[0][0][1]"
      ],
      "metadata": {
        "colab": {
          "base_uri": "https://localhost:8080/"
        },
        "id": "s8h4VSrJRknS",
        "outputId": "6cebb0ff-89a4-4d16-862f-d7c4e2b5b903"
      },
      "execution_count": null,
      "outputs": [
        {
          "output_type": "execute_result",
          "data": {
            "text/plain": [
              "array([-0.4222801 , -0.10702741,  0.12669852, -0.3542362 ,  0.27326035,\n",
              "       -0.34956884,  0.14443488, -0.07710239,  0.31240115], dtype=float32)"
            ]
          },
          "metadata": {},
          "execution_count": 104
        }
      ]
    },
    {
      "cell_type": "code",
      "source": [
        "weights = model.get_weights()\n",
        "weights[0] = weights3[0][0][1]\n",
        "len(weights)"
      ],
      "metadata": {
        "colab": {
          "base_uri": "https://localhost:8080/"
        },
        "id": "FRspUtHNNDJ-",
        "outputId": "4b0a81eb-2e8e-488c-b0e9-a592a744eaba"
      },
      "execution_count": null,
      "outputs": [
        {
          "output_type": "execute_result",
          "data": {
            "text/plain": [
              "24"
            ]
          },
          "metadata": {},
          "execution_count": 111
        }
      ]
    },
    {
      "cell_type": "code",
      "source": [
        "activations= ['sigmoid', 'relu', 'elu', 'tanh']\n",
        "initializer1 = keras.initializers.RandomNormal(mean=0, stddev=1.)\n",
        "initializer2 = keras.initializers.RandomUniform(minval=0,maxval=1.)\n",
        "initializer3 = keras.initializers.TruncatedNormal(mean=0, stddev=1.)\n",
        "initializer4 = keras.initializers.GlorotNormal() #Xavier\n",
        "initializer5 = keras.initializers.GlorotUniform() #Xavier\n",
        "initializer6 = keras.initializers.HeNormal() #He\n",
        "initializer7 = keras.initializers.HeUniform() #He\n",
        "\n",
        "ip = Input(shape=(9,))\n",
        "n = BatchNormalization()(ip) \n",
        "n = Dense(np.random.randint(2, 30), activation=np.random.choice(activations), kernel_initializer=initializer4)(n)\n",
        "n = BatchNormalization()(n)\n",
        "n = Dense(np.random.randint(2, 30), activation='elu', kernel_initializer=keras.initializers.RandomNormal(mean=0, stddev=1.))(n)\n",
        "n = BatchNormalization()(n)\n",
        "n = Dense(np.random.randint(2, 30), activation='elu', kernel_initializer=keras.initializers.RandomNormal(mean=0, stddev=1.))(n)\n",
        "n = BatchNormalization()(n)\n",
        "n = Dense(1, activation='sigmoid', kernel_initializer=keras.initializers.RandomNormal(mean=0, stddev=1.))(n)\n",
        "model = Model(inputs=ip, outputs=n)\n",
        "# model.set_weights(weights)\n",
        "model.compile(loss='binary_crossentropy', optimizer='adam', metrics='accuracy')\n",
        "checkpoint_filepath = '/tmp/checkpoint'\n",
        "model_checkpoint_callback = keras.callbacks.ModelCheckpoint(\n",
        "filepath=checkpoint_filepath, save_weights_only=True,\n",
        "monitor='val_accuracy', mode='max', save_best_only=True)\n",
        "model.fit(X, y, epochs=1000, verbose=0, validation_split=0.2, callbacks=[model_checkpoint_callback])\n",
        "model.load_weights(checkpoint_filepath)\n",
        "print(model.evaluate(df_test, perfect))"
      ],
      "metadata": {
        "colab": {
          "base_uri": "https://localhost:8080/"
        },
        "id": "IqKkFb1eNzuK",
        "outputId": "ec639a00-a3f3-43a4-c1f5-7ebcbe01b27b"
      },
      "execution_count": null,
      "outputs": [
        {
          "output_type": "stream",
          "name": "stdout",
          "text": [
            "14/14 [==============================] - 0s 2ms/step - loss: 0.5328 - accuracy: 0.7416\n",
            "[0.5327528119087219, 0.7416267991065979]\n"
          ]
        }
      ]
    },
    {
      "cell_type": "code",
      "source": [
        "ip = Input(shape=(9,))\n",
        "n = BatchNormalization()(ip) \n",
        "n = Dense(6, activation='tanh', kernel_initializer=keras.initializers.RandomNormal(mean=0, stddev=1.))(n)\n",
        "n = BatchNormalization()(n)\n",
        "n = Dense(5, activation='tanh', kernel_initializer=keras.initializers.RandomNormal(mean=0, stddev=1.))(n)\n",
        "n = BatchNormalization()(n)\n",
        "n = Dense(3, activation='tanh', kernel_initializer=keras.initializers.RandomNormal(mean=0, stddev=1.))(n)\n",
        "n = BatchNormalization()(n)\n",
        "n = Dense(1, activation='sigmoid', kernel_initializer=keras.initializers.RandomNormal(mean=0, stddev=1.))(n)\n",
        "model1 = Model(inputs=ip, outputs=n)\n",
        "model1.compile(loss='binary_crossentropy', optimizer='adam', metrics=['accuracy'])\n",
        "model1.fit(X, y, epochs=500, verbose=0)\n",
        "print(model1.evaluate(df_test, perfect))"
      ],
      "metadata": {
        "colab": {
          "base_uri": "https://localhost:8080/"
        },
        "id": "f1-TjO_7jGy-",
        "outputId": "59bcdb0a-d8e4-45b8-910c-52d53b901f9c"
      },
      "execution_count": null,
      "outputs": [
        {
          "output_type": "stream",
          "name": "stdout",
          "text": [
            "14/14 [==============================] - 0s 3ms/step - loss: 0.4881 - accuracy: 0.7799\n",
            "[0.4880622327327728, 0.779904305934906]\n"
          ]
        }
      ]
    },
    {
      "cell_type": "code",
      "source": [
        "ip = Input(shape=(9,))\n",
        "n = BatchNormalization()(ip) \n",
        "n = Dense(7, activation='tanh', kernel_initializer=keras.initializers.HeNormal())(n)\n",
        "n = BatchNormalization()(n)\n",
        "n = Dense(4, activation='tanh', kernel_initializer=keras.initializers.HeNormal())(n)\n",
        "n = BatchNormalization()(n)\n",
        "n = Dense(3, activation='tanh', kernel_initializer=keras.initializers.HeNormal())(n)\n",
        "n = BatchNormalization()(n)\n",
        "n = Dense(1, activation='sigmoid', kernel_initializer=keras.initializers.HeNormal())(n)\n",
        "model2 = Model(inputs=ip, outputs=n)\n",
        "model2.compile(loss='binary_crossentropy', optimizer='adam', metrics=['accuracy'])\n",
        "model2.fit(X, y, epochs=500, verbose=0)\n",
        "print(model2.evaluate(df_test, perfect))"
      ],
      "metadata": {
        "colab": {
          "base_uri": "https://localhost:8080/"
        },
        "id": "unQDIxC7tqLv",
        "outputId": "9e0d8571-dda3-4da2-ed31-33889aebe751"
      },
      "execution_count": null,
      "outputs": [
        {
          "output_type": "stream",
          "name": "stdout",
          "text": [
            "14/14 [==============================] - 0s 2ms/step - loss: 0.5234 - accuracy: 0.7703\n",
            "[0.5233635902404785, 0.7703348994255066]\n"
          ]
        }
      ]
    },
    {
      "cell_type": "code",
      "source": [
        "from keras.wrappers.scikit_learn import KerasClassifier\n",
        "NN_clf1=KerasClassifier(build_fn=model1, epochs=5, batch_size= 32)\n",
        "NN_clf1._estimator_type = \"classifier\"\n",
        "NN_clf2=KerasClassifier(build_fn=model2, epochs=10, batch_size= 32)\n",
        "NN_clf2._estimator_type = \"classifier\""
      ],
      "metadata": {
        "id": "JIqqk2BUwO2Y"
      },
      "execution_count": null,
      "outputs": []
    },
    {
      "cell_type": "code",
      "source": [
        "intermediate = [('NN1', NN_clf1), ('NN2', NN_clf2)]"
      ],
      "metadata": {
        "id": "YUXACkKdtwkf"
      },
      "execution_count": null,
      "outputs": []
    },
    {
      "cell_type": "code",
      "source": [
        "# Threshold 조정\n",
        "pred = model.predict(df_test)\n",
        "xx = []\n",
        "yy = []\n",
        "for i in range(1, 100):\n",
        "  pred_thr = Binarizer(threshold=i * 0.01).fit_transform(pred)\n",
        "  xx.append(i * 0.01)\n",
        "  yy.append(accuracy_score(pred_thr, perfect))\n",
        "  plt.plot(xx, yy)\n",
        "print('max : ', max(yy))\n",
        "# if result_max < max(yy):\n",
        "#   result_max = max(yy)\n",
        "#   weights = model.get_weights()"
      ],
      "metadata": {
        "colab": {
          "base_uri": "https://localhost:8080/",
          "height": 301
        },
        "id": "h0x1PO2A6BRa",
        "outputId": "8dbd9bea-e4b6-4184-bc45-30a1bf224653"
      },
      "execution_count": null,
      "outputs": [
        {
          "output_type": "stream",
          "name": "stdout",
          "text": [
            "14/14 [==============================] - 0s 2ms/step\n",
            "max :  0.7894736842105263\n"
          ]
        },
        {
          "output_type": "display_data",
          "data": {
            "text/plain": [
              "<Figure size 432x288 with 1 Axes>"
            ],
            "image/png": "[encoded data removed]"
          },
          "metadata": {
            "needs_background": "light"
          }
        }
      ]
    },
    {
      "cell_type": "code",
      "source": [
        "pred = model.predict(df_test)\n",
        "pred_thr = Binarizer(threshold=0.72).fit_transform(pred)\n",
        "accuracy_score(pred_thr, perfect)"
      ],
      "metadata": {
        "colab": {
          "base_uri": "https://localhost:8080/"
        },
        "id": "0e8ARhE8ltuq",
        "outputId": "2be8b307-8347-4624-f6ae-0d3e7455ec6c"
      },
      "execution_count": null,
      "outputs": [
        {
          "output_type": "stream",
          "name": "stdout",
          "text": [
            "14/14 [==============================] - 0s 3ms/step\n"
          ]
        },
        {
          "output_type": "execute_result",
          "data": {
            "text/plain": [
              "0.80622009569378"
            ]
          },
          "metadata": {},
          "execution_count": 166
        }
      ]
    },
    {
      "cell_type": "code",
      "source": [
        "# # epochs별로 생성된 weights 중 가장 큰 값 저장\n",
        "# model = Model(inputs=ip, outputs=n)\n",
        "# model.compile(loss='binary_crossentropy', optimizer='adam', metrics=['accuracy'])\n",
        "# checkpoint_filepath = '/tmp/checkpoint'\n",
        "# model_checkpoint_callback = keras.callbacks.ModelCheckpoint(\n",
        "#     filepath=checkpoint_filepath, save_weights_only=True,\n",
        "#     monitor='val_accuracy', mode='max', save_best_only=True)\n",
        "# model.fit(X, y, epochs=1000, verbose=0, validation_split=0.2, callbacks=[model_checkpoint_callback])\n",
        "# model.load_weights(checkpoint_filepath)"
      ],
      "metadata": {
        "id": "ic3jBoZ9EgMO"
      },
      "execution_count": null,
      "outputs": []
    },
    {
      "cell_type": "code",
      "source": [
        "a = []\n",
        "for x in pred_thr:\n",
        "  a.append(x[0])"
      ],
      "metadata": {
        "id": "NrsEzpGPmtuI"
      },
      "execution_count": null,
      "outputs": []
    },
    {
      "cell_type": "code",
      "source": [
        "df = pd.read_csv('/content/submission.csv')\n",
        "df.Survived = df.Survived.astype('int64')\n",
        "df.to_csv('submission.csv', index=False)"
      ],
      "metadata": {
        "id": "eKEn-pRP1khv"
      },
      "execution_count": null,
      "outputs": []
    },
    {
      "cell_type": "code",
      "source": [
        "tit = pd.read_csv('/content/drive/MyDrive/ Encore Prac/titanic_test.csv')\n",
        "submission = pd.DataFrame({\n",
        "        \"PassengerId\": tit[\"PassengerId\"],\n",
        "        \"Survived\": a\n",
        "    })\n",
        "submission.to_csv('submission.csv', index=False)"
      ],
      "metadata": {
        "id": "6as6j9wbGSdz"
      },
      "execution_count": null,
      "outputs": []
    },
    {
      "cell_type": "markdown",
      "source": [
        "# HyperParameter Tunning"
      ],
      "metadata": {
        "id": "tFqVIBlkz8rg"
      }
    },
    {
      "cell_type": "code",
      "source": [
        "!pip install keras-tuner --upgrade"
      ],
      "metadata": {
        "id": "24f7sJi_GSgq"
      },
      "execution_count": null,
      "outputs": []
    },
    {
      "cell_type": "code",
      "source": [
        "import keras_tuner\n",
        "from tensorflow import keras\n",
        "def build_model(hp):\n",
        "    ip = Input(shape=(X.shape[1],))\n",
        "    n = BatchNormalization()(ip)\n",
        "    n = Dense(hp.Choice('units', [5,7, 8, 10]),\n",
        "              activation='tanh', kernel_initializer=keras.initializers.HeNormal())(n)\n",
        "    n = Dropout(0.5)(n)\n",
        "    n = BatchNormalization()(n)\n",
        "    n = Dense(hp.Choice('units', [3, 5, 6, 7]),\n",
        "              activation='tanh', kernel_initializer=keras.initializers.HeNormal())(n)\n",
        "    n = BatchNormalization()(n)\n",
        "    n = Dense(hp.Choice('units', [2, 3]),\n",
        "              activation='tanh',kernel_initializer=keras.initializers.HeNormal())(n)\n",
        "    n = BatchNormalization()(n)\n",
        "    n = Dense(1, activation='sigmoid',kernel_initializer=keras.initializers.HeNormal())(n)\n",
        "    model = Model(inputs=ip, outputs=n)\n",
        "    model.compile(loss='mse', optimizer='adam', metrics='accuracy')\n",
        "    return model"
      ],
      "metadata": {
        "id": "dh9ezP9EGSlh"
      },
      "execution_count": null,
      "outputs": []
    },
    {
      "cell_type": "code",
      "source": [
        "tuner = keras_tuner.RandomSearch(\n",
        "    build_model, objective='val_accuracy', max_trials=5, directory='./tuner5')"
      ],
      "metadata": {
        "id": "h1g5OiZ1GSoI"
      },
      "execution_count": null,
      "outputs": []
    },
    {
      "cell_type": "code",
      "source": [
        "tuner.search(X, y, epochs=500, validation_split=0.2)\n",
        "best_model = tuner.get_best_models()[0]"
      ],
      "metadata": {
        "colab": {
          "base_uri": "https://localhost:8080/"
        },
        "id": "rfKZJYvD1hyw",
        "outputId": "037c6d3c-d177-40f6-cac8-f8b1e8c34328"
      },
      "execution_count": null,
      "outputs": [
        {
          "output_type": "stream",
          "name": "stdout",
          "text": [
            "Trial 4 Complete [00h 01m 24s]\n",
            "val_accuracy: 0.8715083599090576\n",
            "\n",
            "Best val_accuracy So Far: 0.8826815485954285\n",
            "Total elapsed time: 00h 05m 05s\n"
          ]
        }
      ]
    },
    {
      "cell_type": "code",
      "source": [
        "best_model.evaluate(df_test, perfect)"
      ],
      "metadata": {
        "colab": {
          "base_uri": "https://localhost:8080/"
        },
        "id": "DNhoyFaE1ke4",
        "outputId": "047abeaf-b76b-447f-b851-70735823c733"
      },
      "execution_count": null,
      "outputs": [
        {
          "output_type": "stream",
          "name": "stdout",
          "text": [
            "14/14 [==============================] - 0s 2ms/step - loss: 0.1653 - accuracy: 0.7847\n"
          ]
        },
        {
          "output_type": "execute_result",
          "data": {
            "text/plain": [
              "[0.1653061807155609, 0.7846890091896057]"
            ]
          },
          "metadata": {},
          "execution_count": 283
        }
      ]
    },
    {
      "cell_type": "code",
      "source": [
        "pred = best_model.predict(df_test)\n",
        "xx = []\n",
        "yy = []\n",
        "for i in range(1, 100):\n",
        "  pred_thr = Binarizer(threshold=i * 0.01).fit_transform(pred)\n",
        "  xx.append(i * 0.01)\n",
        "  yy.append(accuracy_score(pred_thr, perfect))\n",
        "  plt.plot(xx, yy)\n",
        "print('max : ', max(yy))"
      ],
      "metadata": {
        "colab": {
          "base_uri": "https://localhost:8080/",
          "height": 301
        },
        "id": "0peKQ5jQ3ykJ",
        "outputId": "9283af1e-69f1-4be3-bea1-5e35ba5eed59"
      },
      "execution_count": null,
      "outputs": [
        {
          "output_type": "stream",
          "name": "stdout",
          "text": [
            "14/14 [==============================] - 0s 2ms/step\n",
            "max :  0.7894736842105263\n"
          ]
        },
        {
          "output_type": "display_data",
          "data": {
            "text/plain": [
              "<Figure size 432x288 with 1 Axes>"
            ],
            "image/png": "[encoded data removed]"
          },
          "metadata": {
            "needs_background": "light"
          }
        }
      ]
    },
    {
      "cell_type": "code",
      "source": [
        "pred1= best_model.predict(X).reshape(-1)\n",
        "pred2 = model1.predict(X).reshape(-1)\n",
        "pred3 =  model2.predict(X).reshape(-1)"
      ],
      "metadata": {
        "colab": {
          "base_uri": "https://localhost:8080/"
        },
        "id": "mia49K233yrO",
        "outputId": "53be6db4-dc13-428a-acb4-289891ba172b"
      },
      "execution_count": null,
      "outputs": [
        {
          "output_type": "stream",
          "name": "stdout",
          "text": [
            "28/28 [==============================] - 0s 2ms/step\n",
            "28/28 [==============================] - 0s 2ms/step\n",
            "28/28 [==============================] - 0s 2ms/step\n"
          ]
        }
      ]
    },
    {
      "cell_type": "code",
      "source": [
        "pred  = np.array([pred1, pred2, pred3 ])\n",
        "pred = pd.DataFrame(pred).T"
      ],
      "metadata": {
        "id": "C5K5z3TU1kkW"
      },
      "execution_count": null,
      "outputs": []
    },
    {
      "cell_type": "code",
      "source": [
        "dc_final = RandomForestClassifier()\n",
        "dc_final.fit(pred, y)"
      ],
      "metadata": {
        "colab": {
          "base_uri": "https://localhost:8080/"
        },
        "id": "nIYwzXpqRi8G",
        "outputId": "3a777d6b-7074-40d0-e770-eda97e9e5056"
      },
      "execution_count": null,
      "outputs": [
        {
          "output_type": "execute_result",
          "data": {
            "text/plain": [
              "RandomForestClassifier()"
            ]
          },
          "metadata": {},
          "execution_count": 346
        }
      ]
    },
    {
      "cell_type": "code",
      "source": [
        "pred1= best_model.predict(df_test).reshape(-1)\n",
        "pred2 = model1.predict(df_test).reshape(-1)\n",
        "pred3 =  model2.predict(df_test).reshape(-1)\n",
        "pred  = np.array([pred1, pred2, pred3 ])\n",
        "pred = pd.DataFrame(pred).T\n",
        "predict = dc_final.predict(pred)"
      ],
      "metadata": {
        "colab": {
          "base_uri": "https://localhost:8080/"
        },
        "id": "bx4vwhOcU0SW",
        "outputId": "701e332a-64dd-45ec-a39f-c0a68d3599a1"
      },
      "execution_count": null,
      "outputs": [
        {
          "output_type": "stream",
          "name": "stdout",
          "text": [
            "14/14 [==============================] - 0s 2ms/step\n",
            "14/14 [==============================] - 0s 2ms/step\n",
            "14/14 [==============================] - 0s 2ms/step\n"
          ]
        }
      ]
    },
    {
      "cell_type": "code",
      "source": [
        "tit = pd.read_csv('/content/drive/MyDrive/ Encore Prac/titanic_test.csv')\n",
        "submission = pd.DataFrame({\n",
        "        \"PassengerId\": tit[\"PassengerId\"],\n",
        "        \"Survived\": predict\n",
        "    })\n",
        "submission.to_csv('submission.csv', index=False)"
      ],
      "metadata": {
        "id": "bkyEWUDLRjAU"
      },
      "execution_count": null,
      "outputs": []
    }
  ]
}